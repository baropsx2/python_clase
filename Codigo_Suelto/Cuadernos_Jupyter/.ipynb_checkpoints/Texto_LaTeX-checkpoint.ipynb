{
 "cells": [
  {
   "cell_type": "markdown",
   "metadata": {},
   "source": [
    "\\usepackage[utf8]{inputenc}"
   ]
  },
  {
   "cell_type": "markdown",
   "metadata": {},
   "source": [
    "$Este\\ texto\\ es\\ \\LaTeX$"
   ]
  },
  {
   "cell_type": "markdown",
   "metadata": {},
   "source": [
    "Y despu\\'es de experimentar mucho con diferentes t'ecnicas resulta que la ecuaci'on\n",
    "\\begin{equation}\n",
    "  w = \\sum_{i=1}^{n} (x_{i}+y_{i})^{2}\n",
    "\\end{equation}\n",
    "es muy importante.\n",
    "\n",
    "... y como sabemos que\n",
    "\\begin{equation*}\n",
    "  \\lim_{x \\to 0} (x^{2} + 2x + 4) = 4\n",
    "\\end{equation*}\n",
    "se concluye que..."
   ]
  },
  {
   "cell_type": "code",
   "execution_count": null,
   "metadata": {},
   "outputs": [],
   "source": []
  }
 ],
 "metadata": {
  "kernelspec": {
   "display_name": "Python 3",
   "language": "python",
   "name": "python3"
  },
  "language_info": {
   "codemirror_mode": {
    "name": "ipython",
    "version": 3
   },
   "file_extension": ".py",
   "mimetype": "text/x-python",
   "name": "python",
   "nbconvert_exporter": "python",
   "pygments_lexer": "ipython3",
   "version": "3.7.0"
  }
 },
 "nbformat": 4,
 "nbformat_minor": 2
}
